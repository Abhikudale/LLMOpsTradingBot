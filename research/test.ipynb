{
 "cells": [
  {
   "cell_type": "code",
   "execution_count": 2,
   "metadata": {},
   "outputs": [],
   "source": [
    "from langchain_astradb import AstraDBVectorStore\n",
    "from langchain_openai import OpenAIEmbeddings\n",
    "from dotenv import load_dotenv\n",
    "import os\n",
    "import pandas as pd\n"
   ]
  },
  {
   "cell_type": "code",
   "execution_count": 1,
   "metadata": {},
   "outputs": [
    {
     "name": "stdout",
     "output_type": "stream",
     "text": [
      "okay\n"
     ]
    }
   ],
   "source": [
    "print(\"okay\")"
   ]
  },
  {
   "cell_type": "code",
   "execution_count": 2,
   "metadata": {},
   "outputs": [
    {
     "data": {
      "text/plain": [
       "True"
      ]
     },
     "execution_count": 2,
     "metadata": {},
     "output_type": "execute_result"
    }
   ],
   "source": [
    "load_dotenv()"
   ]
  },
  {
   "cell_type": "code",
   "execution_count": 34,
   "metadata": {},
   "outputs": [],
   "source": [
    "OPENAI_API_KEY=os.getenv(\"openai_api_key\")"
   ]
  },
  {
   "cell_type": "code",
   "execution_count": 35,
   "metadata": {},
   "outputs": [],
   "source": [
    "os.environ[\"OPENAI_API_KEY\"]=OPENAI_API_KEY"
   ]
  },
  {
   "cell_type": "code",
   "execution_count": 11,
   "metadata": {},
   "outputs": [],
   "source": [
    "embedding = OpenAIEmbeddings()"
   ]
  },
  {
   "cell_type": "code",
   "execution_count": null,
   "metadata": {},
   "outputs": [],
   "source": []
  },
  {
   "cell_type": "code",
   "execution_count": 6,
   "metadata": {},
   "outputs": [
    {
     "data": {
      "text/plain": [
       "'Table of Contents \\n9 understand root causes. Our full-reticle CV test chips use a sh ortened process flow to provide a faster \\nlearning cycle for speci fic process modules. \\n\\uf0a7 Our Scribe CV test chips are inserted directly on customers’ pr oduct wafers to collect data about critical \\nlayers. \\n\\uf0a7 Our DirectProbe™ CV test chips are designed to enable ultra-fas t yield learning for new product designs \\nby allowing our customers to measure components of actual produ ct layout and identify yield issues. \\n• pdFasTest ® Electrical Tester – Our proprietary electrical test hardware is optimized to quickl y test our CV test \\nchips, enabling fast defect and p arametric characterization of manufacturing processes. As part of the system \\noffering, we provide test progr ams for each CV test chip that a re tuned to the customer’s process. This automated \\nsystem provides parallel functional testing, thus minimizing th e time required to perform millions of electrical \\nmeasurements to test our CV test chips. We provide services to analyze the unique, differentiated data output of \\nthis tester using the Exensio Characterization software to prov ide actionable insights to our customers. \\n• Exensio Characterization software – This module, which is designed to integrate seamlessly with the  rest of the \\nExensio software, collects the da ta generated from our CV test products, generating models of the performance \\neffects of process variations on these design building blocks. As part of the system offering, we also offer analysis \\nservices, if the customer elects not to do such analysis itself . \\nCimetrix® Software Products . Our Cimetrix software products enable equipment manufacturers  in the semiconductor \\nand electronics industries to provide standard interfaces on th eir products for efficient equi pment communication, control, \\nand data collection. Numerous industry standards have been esta blished for equipment connectivity and control, including \\nthe SEMI (Semiconductor Equipment and Materials International) defined SECS (SEMI Equipment Communication \\nStandard), GEM (Generic Equipment Model), GEM300, and EDA (equi pment data acquisition) standards. Our Cimetrix \\nproducts are designed to fully support these industry standards  to enable equipment manufacturers to implement robust, \\nturnkey support for these connectivity and control standards wi thout needing to invest engineering resources to develop \\ntheir own interfaces to these standards. Factories that purchas e manufacturing equipment enabled with Cimetrix-supported \\ninterfaces, benefit from consist ent and robust implementations of industry standards, enabling faster and more efficient \\nimplementation of smart manufacturing initiatives that depend o n the collection and analysis of manufacturing and product \\ndata. Cimetrix products are sold via perpetual licenses and typ ically sold as part of a softw are development kit (“SDK”) \\nthat helps equipment manufacturers implement them quickly. We c harge a one-time fee per equipment product type for \\nthe SDK license and a one-time fee for each piece of equipment shipped that includes the Cimetrix runtime license. \\n• Equipment Factory Connectivity – Our products for equipment factory connectivity primarily inclu de the \\nfollowing:  \\n\\uf0a7 Cimetrix CIMConnect ™ is a SEMI SECS/GEM interface to the factory host for automate d control and \\ndata collection. The Cimetrix CIMConnect module supports multip le-host interfaces simultaneously, \\nwhich allows customers to support legacy, custom, and GEM inter faces. Cimetrix CIMConnect is used \\nin semiconductor wafer fabrication, semiconductor back-end (tes t, assembly, and packaging), PV, HB-\\nLED, disk drive, flat panel displays, printed circuit boards an d other electronics manufacturing. In \\naddition to enabling the implementation of the SEMI SECS/GEM st andards E4, E5, E30, E37, E172, \\nand E173, Cimetrix CIMConnect also supports SEMI PV2 (PVECI), A 3 (PCBECI), and HB4 (HB-LED \\nECI) standards. \\n\\uf0a7 Cimetrix CIM300 ™ is a GEM interface for 300mm equipment using SEMI standards, including E39, \\nE40, E87, E90, E94, E116, E148, and E157. These SEMI standards allow for the full automation \\nrequired in manufacturing 300mm wafers. Cimetrix CIM300 manages  the interdependencies between \\nthe standards and simp lifies complex scenarios for easy impleme ntation of the standards. These \\nGEM300 standards are required for full automation in manufactur ing of 300mm wafers. Cimetrix '"
      ]
     },
     "execution_count": 6,
     "metadata": {},
     "output_type": "execute_result"
    }
   ],
   "source": [
    "from langchain_community.document_loaders import PyPDFLoader\n",
    "loader = PyPDFLoader(r\"F:\\End_to_End_Projects\\LLMOPSTRADINGBOT\\data\\finance_data.pdf\")\n",
    "pages = loader.load()\n",
    "pages = pages[10:20]\n",
    "pages[0].page_content"
   ]
  },
  {
   "cell_type": "code",
   "execution_count": 7,
   "metadata": {},
   "outputs": [],
   "source": [
    "raw_text = ''\n",
    "for i, page in enumerate(pages):\n",
    "    text=page.page_content\n",
    "    if text:\n",
    "        raw_text+=text"
   ]
  },
  {
   "cell_type": "code",
   "execution_count": 8,
   "metadata": {},
   "outputs": [
    {
     "data": {
      "text/plain": [
       "'Table of Contents \\n9 understand root causes. Our full-reticle CV test chips use a sh ortened process flow to provide a faster \\nlearning cycle for speci fic process modules. \\n\\uf0a7 Our Scribe CV test chips are inserted directly on customers’ pr oduct wafers to collect data about critical \\nlayers. \\n\\uf0a7 Our DirectProbe™ CV test chips are designed to enable ultra-fas t yield learning for new product designs \\nby allowing our customers to measure components of actual produ ct layout and identify yield issues. \\n• pdFasTest ® Electrical Tester – Our proprietary electrical test hardware is optimized to quickl y test our CV test \\nchips, enabling fast defect and p arametric characterization of manufacturing processes. As part of the system \\noffering, we provide test progr ams for each CV test chip that a re tuned to the customer’s process. This automated \\nsystem provides parallel functional testing, thus minimizing th e time required to perform millions of electrical \\nmeasurements to test our CV test chips. We provide services to analyze the unique, differentiated data output of \\nthis tester using the Exensio Characterization software to prov ide actionable insights to our customers. \\n• Exensio Characterization software – This module, which is designed to integrate seamlessly with the  rest of the \\nExensio software, collects the da ta generated from our CV test products, generating models of the performance \\neffects of process variations on these design building blocks. As part of the system offering, we also offer analysis \\nservices, if the customer elects not to do such analysis itself . \\nCimetrix® Software Products . Our Cimetrix software products enable equipment manufacturers  in the semiconductor \\nand electronics industries to provide standard interfaces on th eir products for efficient equi pment communication, control, \\nand data collection. Numerous industry standards have been esta blished for equipment connectivity and control, including \\nthe SEMI (Semiconductor Equipment and Materials International) defined SECS (SEMI Equipment Communication \\nStandard), GEM (Generic Equipment Model), GEM300, and EDA (equi pment data acquisition) standards. Our Cimetrix \\nproducts are designed to fully support these industry standards  to enable equipment manufacturers to implement robust, \\nturnkey support for these connectivity and control standards wi thout needing to invest engineering resources to develop \\ntheir own interfaces to these standards. Factories that purchas e manufacturing equipment enabled with Cimetrix-supported \\ninterfaces, benefit from consist ent and robust implementations of industry standards, enabling faster and more efficient \\nimplementation of smart manufacturing initiatives that depend o n the collection and analysis of manufacturing and product \\ndata. Cimetrix products are sold via perpetual licenses and typ ically sold as part of a softw are development kit (“SDK”) \\nthat helps equipment manufacturers implement them quickly. We c harge a one-time fee per equipment product type for \\nthe SDK license and a one-time fee for each piece of equipment shipped that includes the Cimetrix runtime license. \\n• Equipment Factory Connectivity – Our products for equipment factory connectivity primarily inclu de the \\nfollowing:  \\n\\uf0a7 Cimetrix CIMConnect ™ is a SEMI SECS/GEM interface to the factory host for automate d control and \\ndata collection. The Cimetrix CIMConnect module supports multip le-host interfaces simultaneously, \\nwhich allows customers to support legacy, custom, and GEM inter faces. Cimetrix CIMConnect is used \\nin semiconductor wafer fabrication, semiconductor back-end (tes t, assembly, and packaging), PV, HB-\\nLED, disk drive, flat panel displays, printed circuit boards an d other electronics manufacturing. In \\naddition to enabling the implementation of the SEMI SECS/GEM st andards E4, E5, E30, E37, E172, \\nand E173, Cimetrix CIMConnect also supports SEMI PV2 (PVECI), A 3 (PCBECI), and HB4 (HB-LED \\nECI) standards. \\n\\uf0a7 Cimetrix CIM300 ™ is a GEM interface for 300mm equipment using SEMI standards, including E39, \\nE40, E87, E90, E94, E116, E148, and E157. These SEMI standards allow for the full automation \\nrequired in manufacturing 300mm wafers. Cimetrix CIM300 manages  the interdependencies between \\nthe standards and simp lifies complex scenarios for easy impleme ntation of the standards. These \\nGEM300 standards are required for full automation in manufactur ing of 300mm wafers. Cimetrix Table of Contents \\n10 CIM300 works with Cimetrix CIMConnect to implement the GEM300 a nd the original GEM suite of \\nstandards. \\n\\uf0a7 Cimetrix CIMPortal ™ Plus is an interface for EDA, also kn own as Interface A. The EDA st andards are \\nE120, E125, E132, E134, E138, E 147, and E164. Cimetrix CIMPorta l Plus implements the EDA \\nstandards in a flexible architect ure that collects data from mu ltiple sources and routes the data to multiple \\nclients simultaneously. Factorie s can use the data gathered thr ough EDA interfaces for FDC, run-to-run \\nadvanced process control, equipment health monitoring, chamber/ tool matching, predictive \\nmaintenance, virtual metrology, diagnostics, and many other equ ipment-related analytical applications. \\n• Equipment Factory Connectivity Testing –  We provide the following produc ts for testing the interfaces d eveloped \\nusing our equipment factory connectivity products: Cimetrix Equ ipmentTest™, for testing and validating \\ncompliance with the GEM and GEM300 standards, Cimetrix EDATeste r™, for testing and validating compliance \\nwith the EDA/Interface A standard s, and performan ce testing of the interface, and Cimetrix ECCE Plus™ for \\nquick testing of the EDA /Interface A interface.  \\n• Equipment Control –  Our equipment control product is the Cimetrix CIMControlFramew ork™ (“Cimetrix CCF”) \\nsoftware, which includes components for supervisory control, ma terial handling, operator interface, platform \\ncontrol, and factory automation requirements, to allow equipmen t manufacturers to meet the requirements of \\nfabrication facilities. Developer s can leverage framework compo nents through configuration and extension or \\ncustomize the framework when unique requirements exist. Cimetri x CCF is designed to allow data generated at \\nany point on the equipment to be quickly and easily accessed by  other modules or external applications. Cimetrix \\nCIMConnect, Cimetrix CIM300, and Cimetrix CIMPortal Plus are in tegrated with Cimetrix CCF to support the \\nSEMI GEM, GEM300, and E DA/Interface A standards.  \\nServices \\nOur services are almost always s old together with, or to suppor t, our products and include the following: \\nSoftware-as-a-Service –  We provide services to make our  Exensio software available to our customers via the Internet, \\ngenerally hosted by third-party providers. SaaS is considered p art of cloud computing since the software is hosted on the \\nInternet, or the “cloud.” Since  our SaaS applications are acces sed from a remote server rather than installed on individual \\nmachines, it is easier to maintain. For example, when the remot e software is updated, the customer’s interface is also \\nupdated for all users. Cloud computing is designed to eliminate  incompatibilities between differ ent software versions and \\nallow us to make incremental updates without requiring software  downloads. Additionally, our customers can save data to \\na central online location, which is designed to allow increased  project collaboration. As part of these services, we also \\ntypically provide hosted management services for the software a nd the customer’s data stored in our cloud. These services \\ninclude environment set-up and configuration, system health mon itoring, data integration maintenance, integration \\nmonitoring, system updates, security, and data upload/download,  and license administration. \\nSoftware Related Services  – We provide software maintenance and support (“M&S”), data ma nagement services, \\nvarious value-added services (“VAS”) to install, configure, or create analysis templates, and other professional services to \\nachieve customers’ specific outcomes using our software. We cal l this last type of services our solutions offering and, in \\nthese cases, we tailor the use of  one or more Exensio products to achieve a desired result. For example, our AIM \\nYieldAware™ FDC solution offering is designed to identify the p rocess control variables that have the greatest impact on \\nproduct yield through professional services that analyze the da ta from both Exensio Proce ss Control and elements of \\nExensio Manufacturing Analytics and make recommendations for th e customer to implement. VAS are provided by our \\nprofessional service personnel w ith expertise that enhances and  complements the engineering teams at our customers. For \\nexample, VAS includes our data cleaning and monitoring services . One requirement of big data analytics is to have clean, \\nharmonized data to analyze. This service offering outsources th e data wrangling and management effort to free the \\ncustomer to focus their efforts on analysis, which has a greate r ROI to the company than data management. \\nCharacterization Services  – These services are designed to characterize key product and/ or process elements, \\nprimarily into CV test structures  or DFI on-chip measurement in struments, and typically do not include performance Table of Contents \\n11 incentives based on the customers’ yield achievement. We provid e these services, typically together with all elements of \\nour CV system, to foundry customers in connection with new proc ess technology development and/or yield ramp. In \\nCharacterization engagements, we generally provide the analysis  of our CV test chips and provide summary findings and \\nrecommendations to the customer. Characterization engagements c an include DFI systems. \\nCustomers \\nOur existing customers include f oundries, IDMs, fabless semicon ductor design companies, OSATs, equipment \\nmanufacturers, EMS, and ODMs, including those that embed and di stribute our Assembly Operations modules in their \\nequipment. Our semiconductor customers’ targeted product segmen ts vary significantly, including microprocessors, \\nmemory, graphics, image sensor solutions, and communications. W e believe that the adoption of our solutions by such \\ncompanies for usage in a wide range of products validates the a pplication of our solutions to the broader semiconductor \\nmarket. We often have multiple contracts with a single customer  or customer group, with no in terdependent performance \\nobligations. In general, our customer contracts are non-cancell able. \\nOne customer accounted for 35% of  our revenues for 2023, two cu stomers accounted for 41% of our revenues for \\n2022 and two customers accounted for 27% of our revenues for 20 21. No other customers accounted for 10% or more of \\nour revenues in 2023, 2022 and 2021. Also, two customers accoun ted for 50% of our gross accounts receivable as of \\nDecember 31, 2023, and three cust omers accounted for 53% of our  gross accounts receivable as of December 31, 2022. \\nWe generally do not require collateral or other security to sup port accounts receivable. See the discussion in “Risk Factors” \\nunder Item 1A for more information about risks associated with customer concentration and contractual provisions. \\nInternational revenues accounted for approximately 44%, 50% and  55% of our total revenues for 2023, 2022 and \\n2021, respectively. We base these calculations on the geographi c location of where the work is performed or where the \\ncustomer is located. Revenues from customers by geographic area  based on the location of the customers’ work sites for \\nthe last three fiscal years can be  found in Note 11, “Customer and Geographic Information” to the consolidated financial \\nstatements. Additional discussion  regarding the risks associate d with international operations can be found under Item 1A, \\n“Risk Factors”. \\nSee our “Notes to Consolidated F inancial Statements”, included under Part II, Item 8. “Financial Statements and \\nSupplementary Data” for additional geographic information. \\nSales and Marketing \\nOur sales strategy is primarily  to pursue targeted accounts thr ough a combination of our direct sales force, our service \\nteams, and strategic alliances. After we are engaged by a custo mer and early in the services p rocess, our engineers seek to \\nestablish relationships in the organization and gain an underst anding of our customers’ business issues. Our direct sales \\nand service teams combine their efforts to deepen our customer relationships by expanding our penetration across \\ncustomers’ products, processes, and technologies. This close wo rking relationship with each customer has the added \\nbenefit of helping us to identify new product areas and technol ogies in which we should next focus our research and \\ndevelopment efforts. From time-to -time, we use sales representa tives/agents in various locations to augment direct sales \\nin certain territories.  \\nWe expect to continue to establish strategic alliances with pro cess licensors, vendors in the electronic design \\nautomation software, capital equipment for IC production, and t est silicon IP and mask-making s oftware segmen ts to create \\nand take advantage of sales channel and co-marketing opportunit ies. Additionally, we expect to form relationships with \\nkey value chain participants, including foundries and OSATs, to  provide services and value across the manufacturing \\nsupply chain. \\nResearch and Development \\nOur research and development focuses on developing and introduc ing new proprietary technologies for our \\ncomprehensive platform, including our Exensio software, Cimetri x connectivity and control products, and DFI and CV \\nsystems, as well as other software products and enhancements to  our existing solutions, such as field applications for DFI Table of Contents \\n12 and CV and new applications targeted to inter-operate with stra tegic partner products. We use a rapid-prototyping \\nparadigm in the context of the customer engagement to achieve t hese goals. We have made, and expect to continue to \\nmake, substantial investments in research and development. The complexity of our technologies requires expertise in \\nstandards, physical IC design and layout, transistor design and  semiconductor physics, semiconductor process integration, \\nnumerical algorithms, e-beam tech nology, hardware, statistics a nd software development. We believe that our team of \\nengineers will continue to advance our market and technological  leadership. We conduct in-house training for our \\nengineers in certain technical ar eas. Our training also extends  to focusing on ways to enhance customer service skills. \\nAlthough it fluctuates, we can have up to one quarter of our re search and development engineers assigned to one or more \\nprojects, partnered with solutio n services engineers, in a deli berate strategy to provide direct feedback between technology \\ndevelopment and customer needs. We also utilize a variety of sk illed independent contractors for specialized development. \\nCompetition \\nThe semiconductor industry is highly competitive and driven by rapidly changing design and process technologies, \\nevolving standards, short product life cycles, and decreasing p rices. We expect market competition to continue to develop \\nand increase as the market for data and analytics continues to evolve. We believe IC companies benefit from a combination \\nof big data management infrastructure, AI/ML-based analytics en gines, and products that generate and collect \\ndifferentiated data that enrich the analytics process. Currentl y, we are a leading provider o f comprehensive commercial \\nhardware, software and IP solutions for optimizing and improvin g design, manufacturing and test operations processes \\nthrough the application of differentiated data and advanced ana lytics. As a result, we face c ompetition from three primary \\ngroups: internal customer development or design programs, equip ment solutions providers, and providers of analytical and \\ndesign software. We face indir ect competition from internal gro ups at IC companies that offer tools with varying degrees \\nof optimization to accelerate pr ocess-design integration or tes t operations. Some providers of semiconductor \\nmanufacturing software, inspection equipment, electronic design  automation, or design IP may seek to broaden their \\nproduct offerings and compete with us. In addition, companies p roviding general ML and analytics software may focus on \\nsemiconductor companies and comp ete with us. In each of the mar ket segments we compete in, we face competition from \\nestablished and potential competitors, some of whom may have gr eater financial, research, engineering, manufacturing \\nand marketing resources than we have. \\nWe currently face indirect compe tition from the i nternal groups  at IC companies and direct competition from providers \\nof (i) yield management and/or prediction systems, such as KLA Corporation (“KLA”), Siemens AG (“Siemens”), Onto \\nInnovation, Inc. (“Onto”), and Synopsys, Inc. (“Synopsys”); (ii ) semiconductor manufacturing software, such as Applied \\nMaterials, Inc (“Applied Materials”), Synopsys, Invantest, Inc. , Emerson Electric Co., Onto,  and Siemens; (iii) inline \\ninspection, metrology and electrical test equipment providers, such as ASML Holding N.V. (“ASML”), Applied Materials, \\nKLA, and Keysight Technologies, Inc.; and, (iv) connectivity so ftware or integration products/services supporting factory \\nequipment connectivity or control needs of customers, such as P E E R  G r o u p ,  I n c . ,  K o n t r o n  A I S ,  G m b H ,  Y o k o g a w a  \\nElectric Corp., Advantest, and Kornic Automation Co. Ltd. There  may be other providers of competitive commercial \\nsolutions of which we are not aware, and we may compete with th e products or offerings of these named companies or \\nadditional companies if we expa nd our offerings through acquisi tions or development. For example, since our acquisition \\nof Cimetrix in late 2020, we now face competition in the produc ts/services supporting the connectivity, control and \\nintegration of factory equipment. The demand for solutions that  address the need for better integration between the silicon \\ndesign and manufacturing processes may encourage direct competi tors to enter our market. For example, in 2020, two of \\nour competitors were acquired by larger entities, Synopsys acqu ired Qualtera and NI, Inc. acquired Optimal+, and each \\nhas increased marketing or pricing competition with us. For exa mple, in 2023, Emerson Electric Co. acquired NI, Inc. This \\ncompetition in our market may intensify in the future, which co uld lead to increased pricing pressure, negatively impacting \\nour revenues, and slow our ability to grow or execute our strat egy. Also, our current and potential customers may choose \\nto develop their own solutions internally, particularly if we a re slow in deploying our solutions or improving them to meet \\nmarket needs. These and other competitors may be able to operat e  w i t h  a  l o w e r  c o s t  s t r u c t u r e  t h a n  o u r  e n g i n e e r i n g  \\norganization, which would give any such competitor’s products a  competitive advantage over our solutions. \\nWe believe that our solutions compare favorably with respect to  competition because we have demonstrated results \\nand reputation, strong core technology, ability to create innov ative technology, and ability to implement solutions for new \\ntechnology and product generations. See the discussions in “Ris k Factors” under Item 1A for more information about risks \\nassociated with our competition. Table of Contents \\n13 Human Capital Management \\nWe believe that our future success will depend, in part, on our  continued ability to hire and retain qualified \\nmanagement, sales, and technical employees. Consequently, we se ek to engage in sound ethical and organizational \\ngovernance, promote business et hics and integrity, and embrace equality, diversity, and inclusion throughout our \\norganization. \\nAs of December 31, 2023, we had 493 employees worldwide, includ ing 171 field application engineers and \\nconsultants, 155 in research and development, 106 in sales and marketing, and 61 in general and administrative functions. \\nOf these employees, 285 are lo cated in the United States, 172 i n Asia, and 36 in Europe. \\nNone of our employees are represented by a labor union. Our emp loyees in France and Italy are subject to collective \\nbargaining agreements in those countries. \\nOur commitment to human capital management  is embedded in our governance structure \\nAt the Board level, our Compensation and Human Capital Manageme nt Committee is tasked with oversight of the \\ndevelopment, implementation and effectiveness of our policies a nd strategies relating to human capital management, \\nincluding strategies regarding recruiting, selection, career de velopment and progression, and diversity and employment \\npractices. Further, our Nominatin g and Corporate Governance Com mittee is tasked with primary oversight for governance \\nand ESG issues. \\nTalent Development \\nWe are committed to the development and growth of our employees  because we believe this is crucial for our long-\\nterm success. This includes offering training, mentorship, and other development opportunities to further enhance the \\ntalent we have today, but also entails having the right skill s ets for our future. \\nTo this end, we are working to implement a planned set of actio ns around increasing formal programs to achieve these \\ngoals. We believe that our team o f engineers will continue to a dvance our market and technol ogical leadership. We conduct \\nin-house training for our engin eers in certain technical areas.  \\nWe also fund attendance at continuing education courses, sympos ia, and participation in professional organizations. \\nEmployee Engagement \\nEmployee engagement is crucial for the overall health of the or ganization. In 2023, we conducted a survey of all our \\nemployees to assess overall employee engagement. \\nIn addition to our efforts to address employee engagement, we a re committed to supporting our employees and \\ncreating an engaged workforce by  prioritizing the items below: \\n• personal growth through training and development; \\n• recognizing and rewarding our peo ple for their commitment to ou r values and our organization; \\n• flexible work locations and schedules; and \\n• providing a sense of organizational community by hosting online  as well as in-person events where our people \\ncan gather and connect. Table of Contents \\n14 Health and Safety \\nWe are committed to ensuring that proper working conditions exi s t  f o r  t h e  s a f e t y  o f  o u r  e m p l o y e e s ,  s u c h  a s  \\ndeveloping, implementing, and improving health and safety syste ms and conditions, and providing appropriate \\npreparation, education, reporting, and controls. \\nDiversity, Equity, and Inclusion \\nWe work to ensure that our business practices support diversity  and inclusion to build an innovative workforce and to \\nstrive toward having our organization reflect the complexion of  o ur c u s t om e r s  a n d s up pl i e rs .  In F e br ua r y 2 02 4,  a ft e r  \\nconsidering the recommendation of the Nominating and Corporate Governance Committee, the Compensation and Human \\nCapital Management Committee approved, and then our Board adopt ed, a Human Rights policy and a Diversity, Equity, \\nand Inclusion (“DEI”) Policy to b etter implement our core value s and relevant standards into our governance structure.  \\nWe are strengthening our diversity and inclusion programs with actions around organizational training, on-going \\neducation and focus on our company values, and a revitalized re cruitment strategy. \\nWe value a range of diverse perspectives with reference to our business model and specific needs, including, but not \\nlimited to, gender, age, race, lan guage, cultura l background, e ducational background, industry experience, professional \\nexperience, and veteran and activ e armed service status or othe r similar characteristics.  \\nInformation about our Executive Officers \\nThe following table and notes set forth information about our c urrent executive officers as of the date of this \\nForm 10  -  K. \\n   \\nName       Age      Position\\nJ o h n  K .  K i b a r i a n ,  P h . D .  .....  5 9  P r e s i d e n t ,  C h i e f  E x e c u t i v e  O f ficer, and Directo r \\nA d n a n  R a z a  ...............  5 1  E x e c u t i v e  V i c e  P r e s i d e n t ,  F i n a n c e and Chief Financial Office r\\nK i m o n  W .  M i c h a e l s ,  P h . D .  ...  5 7  E x e c u t i v e  V i c e  P r e s i d e n t ,  P r o d ucts and Solutions and Directo r\\nAndrze j Stro jw a s ,  P h . D .  .....  7 1  C h i e f  T e c h n o l o gy Office r\\nJohn K. Kibarian, Ph.D. , one of our founders, has served as President since November 1 991 and has served as our \\nChief Executive Officer since July  2000. Dr. Kibarian has serve d as a director on our Board of Directors since \\nDecember 1992. Dr. Kibarian recei ved a B.S. in Electrical Engin eering, an M.S. E.C.E. and a Ph.D. E.C.E. from Carnegie \\nMellon University. \\nAdnan Raza , joined in January 2020 as Executive Vice President, Finance, and was appointed Chief Financial Officer \\neffective in March 2020. Prior t o joining the Company, Mr. Raza  served as an independent strategy consultant for private \\nand public companies from July 2019 to January 2020. Prior to t hat, Mr. Raza served in various roles at Synaptics Inc., a \\ndeveloper of human interface technologies, including as Senior Vice President of Corporate Development from \\nAugust 2017 to June 2019 and Vice President of Corporate Develo pment from February 2015 to August 2017. Prior roles \\ninclude technology investment banking at Goldman, Sachs & Co. a nd UBS Investment Bank, strategic advising at \\nBlackreef Capital, engineering and  marketing at Azanda Network Devices, and engineering at Lucent Technologies. \\nMr. Raza also served as a Board M ember at FIDO Alliance, an all iance of leading technology companies to enhance user \\nsecurity and authentication. Mr . Raza holds an M.B.A. from The Wharton School at the University of Pennsylvania, a \\nM. Eng. in Electrical Engineerin g from Cornell University, and a B.S. in Electrical Engineering from Valparaiso \\nUniversity. \\nKimon W. Michaels, Ph.D. , one of our founders, has served as Vice President, Products a nd Solutions since July 2010 \\nand was designated as an Executive VP in February 2019. Dr. Mic haels served as Vice President, Design for \\nManufacturability from June 2007 through June 2010. Prior to th at, Dr. Michaels served as Vice President, Field \\nOperations for Manufacturing Process Solutions from January 200 6 through May 2007, and has served as a director on \\nour Board of Directors since November 1995. From March 1993 thr ough December 2005, he served in various vice \\npresidential capacities. He also served as Chief Financial Offi cer of the Company from November 1995 to July 1998. \\nDr. Michaels received a B.S. in Electrical Engineering, and M.S . E.C.E. and a Ph.D. E.C.E. from Carnegie Mellon \\nUniversity. Table of Contents \\n15 Andrzej Strojwas, Ph.D. , served as a technical advisor to the Company from our foundin g until 2021 and as chief \\ntechnologist from 1997 to 2021. He joined the Company as an emp loyee in July 2021 as Vice President and Technical \\nGeneral Manager, and was appointed Chief Technology Officer eff ective December 2021. From October 1982 to \\nJuly 2021, Dr. Strojwas was the Keithley Professor of Electrica l and Computer Engineering at Carnegie Mellon \\nUniversity. In addition, Dr. Strojwas has held senior technical  positions at Harris Semiconductor Co., AT&T Bell Labs, \\nTexas Instruments, NEC, Hitachi, SEMATECH, and KLA. He holds an  M.S. in Electronic Engineering from Warsaw \\nTechnical University and a Ph.D. in Electrical Engineering from  Carnegie Mellon University. \\nAvailable Information \\nWe file or furnish various reports, such as registration statem ents, periodic and current reports, proxy statements and \\nother materials with the SEC. Our Internet website address is w ww.pdf.com. You may obtain, free of charge on our \\nwebsite, copies of our annual reports on Form 10  -  K, quarterly reports on Form 10  -  Q, current reports on Form 8  -  K, and \\namendments to those reports filed or furnished pursuant to Sect ion 13(a) or 15(d) of the Exchange Act, as soon as \\nreasonably practicable after we electronically file such materi al with, or furnish it to, the SEC. The Company’s website \\naddress provided is not intended to function as a hyperlink, an d the information on the Company’s website is not, and \\nshould not be considered, part of this Annual Report on Form 10  -  K and is not incorporated by reference herein. \\nThe SEC maintains a Web site ( http://www.sec.gov) that contains  reports, proxy and information statements and other \\ninformation regarding issuers, s uch as us, that file electronic ally with the SEC. \\n  Table of Contents \\n16 Item 1A. Risk Factors \\nA description of the risk factors associated with our business is set forth below. Some of th ese risks are highlighted in \\nthe following discussion, and in M anagement’s Discussion and An alysis of Financial Condition and Results of Operations, \\nLegal Proceedings, and Quantitative and Qualitative Disclosures  About Market Risk. The occurrence of any of these risks \\nor additional risks and uncertainties not presently known to us  or that we currently believe to be immaterial could materially  \\nand adversely affect our business, operating results, financial  condition, and stock price. These risks and uncertainties \\ncould cause our actual results to differ materially from the re sults contemplated by the forward-looking statements \\ncontained in this report. Investors should carefully consider a ll relevant risks and uncertainties before investing in our \\ncommon stock. \\nRisk Factors Summary \\nRisks Associated with Our Business \\n• We have invested significant resources into research and develo pment of our DFI system and Exensio software \\nand if we fail to successfully carry out these initiatives on t he expected timeline or at all, our business, financial \\ncondition, or results of operati ons could be adversely impacted . \\n• Our sales cycle is lengthy and customers may delay entering int o contracts or decide not to adopt our products or \\nsolutions after we have performed services or supported their e valuation of our technology, which could result in \\ndelays in recognizing revenue and could negatively impact our r esults of operations in a quarter or result in lower \\nrevenue than we expected if a contract is not consummated. \\n• We rely on sole-source providers for certain software as well a s for specialized parts for our eProbe hardware and \\nsupply-chain delays or disrupti ons could increase our costs or impact our ability to provide complete software \\nsolutions or to build additional hardware tools or meet custome r expectations or deadlines, which could result in \\nlost sales and lower earnings. \\n• Our fixed-fee services for product or system installations/conf igurations may take longer than budgeted, which \\ncould slow our revenue recognition and may result in a lost con tract or a claim of breach by our customers, which \\nwould negatively affect our fin ancial and operating results. \\n• Our ability to sell our products , systems, and solutions depend s in part on the quality of our support and services \\nofferings, and the failure to offer high-quality support and se rvices could negatively affect our sales and results \\nof operations. \\n• Defects in our proprietary technologies, hardware and software tools, and failure to effectively remedy any such \\ndefects could decrease our revenue and our competitive market s hare. \\n• Objectionable disclosure of our customers’ confidential informa tion or our failure to comply with our customers’ \\nsecurity rules, including for those related to SaaS access, AI use, or our on-site access, could result in costly \\nlitigation, cause us to lose existing and potential customers, or negatively impact on-going business with existing \\ncustomers. \\n• We generate a significant portion of our revenues from a limite d number of customers, and a large percentage of \\nour revenues from one customer, so defaults or decreased busine ss with, or the loss of, any one of these customers, \\nor pricing pressure, or customer consolidation could significan tly reduce our revenues or margins and negatively \\nimpact results o f operations. \\n• If we do not continuously meet our development milestones of ke y research and development projects or \\nsuccessfully commercialize our DFI system, our future market op portunity and revenues will suffer, and our costs \\nmay not be recouped. Table of Contents \\n17 • We are required to comply with governmental export and import r equirements that could subject us to liability \\nand restrict our ability to sell our products and services, whi ch could impair our ability to compete in international \\nmarkets. \\n• Decreases in wafer volumes at our customers’ manufacturing site s or the volume of ICs that some of our \\ncustomers are able to sell to the ir customers would cause our I ntegrated Yield Ramp revenue to suffer. \\n• We acquired an early-stage battery-solutions provider and have been investing in research and development for \\nnew products and services beyond our traditional semiconductor focus, and it could take a long time to reach \\nmarket acceptance and recoup our costs, if at all. \\n• Our success depends upon our ability to effectively plan and ma nage our resources and restructure our business \\nthrough rapidly fluctuating economic and market conditions, whi ch actions may have an adverse effect on our \\nfinancial and operating results. \\n• Our business may be negatively im pacted by social, political, g eopolitical, economic instability, unrest, war, \\nterrorism, or other circumstances that could interrupt our busi ness operations, which could cause us to lose sales \\nor delay or be unable to fulfill contractual commitments, which  may have an adverse effect on our financial and \\noperating results. \\n• Global economic conditions or semiconductor market conditions c ould materially adversel y impact demand for \\nour products and services, decrease our sales, or delay our sal es cycle. \\n• We face challenges in providing a  comprehensive s olution outsid e of the semiconductor industry due to \\nlimitations on the business areas in which we can use current t hird-party licensed technology, which may make \\nit prohibitively expensive to se ll our solution for application s outside of our traditional industry. \\nRisks Related to Our Technology \\n• If we fail to protect our IP rights, customers or potential com petitors may be able to use our technologies to \\ndevelop their own solutions, which could weaken our competitive  position, reduce our revenues, or increase our \\ncosts. \\n• We are exposed to risks related to information technology infra structure, information management and protection, \\ncybersecurity threats, and cyber incidents. \\n• We and our customers are subject to laws and regulations concer ning data privacy, dat a security, consumer \\nprotection, and advertising and these laws and regulations are continually evolving, which exposes us to potential \\nmaterial risks. \\n• Our technologies could infringe the IP rights of others, causin g costly litigation and the loss of significant rights. \\n• Competition in the market for data analytics and related system s and services may intensify in the future, which \\ncould impede our ability to gr ow or execute our strategy. \\n• Generative AI and the user other advanced AI technologies for s oftware development may subject us to claims \\nof misappropriation of others’ IP, bugs/errors, and ambiguous o wnership of created content. \\nRisks Related to Our Operations \\n• Measurement of our variable consideration sometimes require dat a collection and customers’ use of estimates \\nand are contingent upon customers’ consent and may be later off set if actual data differ from customers’ estimates, \\nwhich can result in uncertainty a nd cause quarterly results to fluctuate. Table of Contents \\n18 • We have customers with past due b alances and our failure to col lect a significant portion of such balances could \\nadversely affect our cash, require us to write-off receivables,  or increase our expense or allowance for credit \\nlosses. \\n• We face operational and financial risks associated with interna tional operations that could negatively impact our \\nrevenues. \\n• Our business is subject to evolving corporate governance and pu blic disclosure regulations and expectations, \\nincluding with respect to ESG matters that could expose us to n umerous risks. \\n• Provision of certain of our da ta services relies on installing,  configuring, and operating proprietary configuration \\nof hardware and software systems located in third-party facilit ies and errors affecting such facilities’ operations \\ncould lead to liability for us, a nd any objection from such thi rd-party facility or delay in providing us physical or \\nlogical access to our systems may  adversely impact our ability to timely perform our contract obligations or lead \\nto confidentiality, integrity, availability, security, or priva cy controls exceptions. \\nTax Risks \\n \\n• U.S. federal tax reform and chan ges in foreign tax laws could c hange our tax burden and adversely affect our \\nbusiness and financial condition. \\n• Future events may impact our deferred tax asset position, inclu ding the utilization of net operating loss and tax \\ncredit carryforwards. \\nRisks Related to Our Strategic Transactions \\n• We may devote significant time and resources to developing stra tegic relationships but we may not realize the \\nbenefits of such efforts, which could have an adverse effect on  our business and results of operations. \\n• Our acquisitions create special r isks and challenges that could  adversely affect our  financial results. \\nGeneral Risk Factors \\n• If we are not able to retain, a ttract, motivate, and strategica lly locate talented employees, including some key \\nexecutives, our business may suffer. \\n• Our earnings per share and other operating results may vary qua rter to quarter, which could result in not meeting \\ninvestors’ expectations a nd stock price volatility. \\n• Our business could be negatively affected as a result of action s of activist shareholders, and such activism could \\nimpact the trading value of our securities. \\nRisks Associated with Our Business \\nWe have invested significant resources into research and development of our DFI system and Exensio software and if \\nwe fail to successfully carry out these initiatives on the expect ed timeline or at all, our business, financial condition, or \\nresults of operations could be adversely impacted. \\nAs part of the evolution of our business, we have made substant ial investments in research and development efforts \\nto develop our DFI system and Exensio software. New competitors , technological advances in th e semiconductor industry \\nor other competitive factors may require us to further invest s ignificantly greater resources t han we anticipate. If we invest  \\nsignificantly greater resources  than anticipated without a corr esponding increase in revenue, our operating results could \\ndecline. The technologies and products that we invest in may no t result in products that creat e additional revenue, and we '"
      ]
     },
     "execution_count": 8,
     "metadata": {},
     "output_type": "execute_result"
    }
   ],
   "source": [
    "raw_text"
   ]
  },
  {
   "cell_type": "code",
   "execution_count": 9,
   "metadata": {},
   "outputs": [],
   "source": [
    "from langchain_text_splitters import RecursiveCharacterTextSplitter\n",
    "\n",
    "splitter = RecursiveCharacterTextSplitter(\n",
    "    chunk_size=500,\n",
    "    chunk_overlap=100)"
   ]
  },
  {
   "cell_type": "code",
   "execution_count": 10,
   "metadata": {},
   "outputs": [],
   "source": [
    "texts=splitter.split_text(raw_text)"
   ]
  },
  {
   "cell_type": "code",
   "execution_count": 11,
   "metadata": {},
   "outputs": [
    {
     "data": {
      "text/plain": [
       "91"
      ]
     },
     "execution_count": 11,
     "metadata": {},
     "output_type": "execute_result"
    }
   ],
   "source": [
    "len(texts)"
   ]
  },
  {
   "cell_type": "code",
   "execution_count": 16,
   "metadata": {},
   "outputs": [],
   "source": [
    "docs=[]\n",
    "from langchain.docstore.document import Document\n",
    "for i, text in enumerate(texts):\n",
    "    doc=Document(page_content=texts[i])\n",
    "    docs.append(doc)"
   ]
  },
  {
   "cell_type": "code",
   "execution_count": 21,
   "metadata": {},
   "outputs": [
    {
     "data": {
      "text/plain": [
       "[Document(page_content='Table of Contents \\n9 understand root causes. Our full-reticle CV test chips use a sh ortened process flow to provide a faster \\nlearning cycle for speci fic process modules. \\n\\uf0a7 Our Scribe CV test chips are inserted directly on customers’ pr oduct wafers to collect data about critical \\nlayers. \\n\\uf0a7 Our DirectProbe™ CV test chips are designed to enable ultra-fas t yield learning for new product designs'),\n",
       " Document(page_content='by allowing our customers to measure components of actual produ ct layout and identify yield issues. \\n• pdFasTest ® Electrical Tester – Our proprietary electrical test hardware is optimized to quickl y test our CV test \\nchips, enabling fast defect and p arametric characterization of manufacturing processes. As part of the system \\noffering, we provide test progr ams for each CV test chip that a re tuned to the customer’s process. This automated'),\n",
       " Document(page_content='system provides parallel functional testing, thus minimizing th e time required to perform millions of electrical \\nmeasurements to test our CV test chips. We provide services to analyze the unique, differentiated data output of \\nthis tester using the Exensio Characterization software to prov ide actionable insights to our customers. \\n• Exensio Characterization software – This module, which is designed to integrate seamlessly with the  rest of the'),\n",
       " Document(page_content='Exensio software, collects the da ta generated from our CV test products, generating models of the performance \\neffects of process variations on these design building blocks. As part of the system offering, we also offer analysis \\nservices, if the customer elects not to do such analysis itself . \\nCimetrix® Software Products . Our Cimetrix software products enable equipment manufacturers  in the semiconductor'),\n",
       " Document(page_content='and electronics industries to provide standard interfaces on th eir products for efficient equi pment communication, control, \\nand data collection. Numerous industry standards have been esta blished for equipment connectivity and control, including \\nthe SEMI (Semiconductor Equipment and Materials International) defined SECS (SEMI Equipment Communication \\nStandard), GEM (Generic Equipment Model), GEM300, and EDA (equi pment data acquisition) standards. Our Cimetrix'),\n",
       " Document(page_content='products are designed to fully support these industry standards  to enable equipment manufacturers to implement robust, \\nturnkey support for these connectivity and control standards wi thout needing to invest engineering resources to develop \\ntheir own interfaces to these standards. Factories that purchas e manufacturing equipment enabled with Cimetrix-supported \\ninterfaces, benefit from consist ent and robust implementations of industry standards, enabling faster and more efficient'),\n",
       " Document(page_content='implementation of smart manufacturing initiatives that depend o n the collection and analysis of manufacturing and product \\ndata. Cimetrix products are sold via perpetual licenses and typ ically sold as part of a softw are development kit (“SDK”) \\nthat helps equipment manufacturers implement them quickly. We c harge a one-time fee per equipment product type for \\nthe SDK license and a one-time fee for each piece of equipment shipped that includes the Cimetrix runtime license.'),\n",
       " Document(page_content='• Equipment Factory Connectivity – Our products for equipment factory connectivity primarily inclu de the \\nfollowing:  \\n\\uf0a7 Cimetrix CIMConnect ™ is a SEMI SECS/GEM interface to the factory host for automate d control and \\ndata collection. The Cimetrix CIMConnect module supports multip le-host interfaces simultaneously, \\nwhich allows customers to support legacy, custom, and GEM inter faces. Cimetrix CIMConnect is used'),\n",
       " Document(page_content='which allows customers to support legacy, custom, and GEM inter faces. Cimetrix CIMConnect is used \\nin semiconductor wafer fabrication, semiconductor back-end (tes t, assembly, and packaging), PV, HB-\\nLED, disk drive, flat panel displays, printed circuit boards an d other electronics manufacturing. In \\naddition to enabling the implementation of the SEMI SECS/GEM st andards E4, E5, E30, E37, E172, \\nand E173, Cimetrix CIMConnect also supports SEMI PV2 (PVECI), A 3 (PCBECI), and HB4 (HB-LED'),\n",
       " Document(page_content='and E173, Cimetrix CIMConnect also supports SEMI PV2 (PVECI), A 3 (PCBECI), and HB4 (HB-LED \\nECI) standards. \\n\\uf0a7 Cimetrix CIM300 ™ is a GEM interface for 300mm equipment using SEMI standards, including E39, \\nE40, E87, E90, E94, E116, E148, and E157. These SEMI standards allow for the full automation \\nrequired in manufacturing 300mm wafers. Cimetrix CIM300 manages  the interdependencies between \\nthe standards and simp lifies complex scenarios for easy impleme ntation of the standards. These'),\n",
       " Document(page_content='the standards and simp lifies complex scenarios for easy impleme ntation of the standards. These \\nGEM300 standards are required for full automation in manufactur ing of 300mm wafers. Cimetrix Table of Contents \\n10 CIM300 works with Cimetrix CIMConnect to implement the GEM300 a nd the original GEM suite of \\nstandards. \\n\\uf0a7 Cimetrix CIMPortal ™ Plus is an interface for EDA, also kn own as Interface A. The EDA st andards are'),\n",
       " Document(page_content='E120, E125, E132, E134, E138, E 147, and E164. Cimetrix CIMPorta l Plus implements the EDA \\nstandards in a flexible architect ure that collects data from mu ltiple sources and routes the data to multiple \\nclients simultaneously. Factorie s can use the data gathered thr ough EDA interfaces for FDC, run-to-run \\nadvanced process control, equipment health monitoring, chamber/ tool matching, predictive'),\n",
       " Document(page_content='advanced process control, equipment health monitoring, chamber/ tool matching, predictive \\nmaintenance, virtual metrology, diagnostics, and many other equ ipment-related analytical applications. \\n• Equipment Factory Connectivity Testing –  We provide the following produc ts for testing the interfaces d eveloped \\nusing our equipment factory connectivity products: Cimetrix Equ ipmentTest™, for testing and validating'),\n",
       " Document(page_content='compliance with the GEM and GEM300 standards, Cimetrix EDATeste r™, for testing and validating compliance \\nwith the EDA/Interface A standard s, and performan ce testing of the interface, and Cimetrix ECCE Plus™ for \\nquick testing of the EDA /Interface A interface.  \\n• Equipment Control –  Our equipment control product is the Cimetrix CIMControlFramew ork™ (“Cimetrix CCF”) \\nsoftware, which includes components for supervisory control, ma terial handling, operator interface, platform'),\n",
       " Document(page_content='control, and factory automation requirements, to allow equipmen t manufacturers to meet the requirements of \\nfabrication facilities. Developer s can leverage framework compo nents through configuration and extension or \\ncustomize the framework when unique requirements exist. Cimetri x CCF is designed to allow data generated at \\nany point on the equipment to be quickly and easily accessed by  other modules or external applications. Cimetrix'),\n",
       " Document(page_content='CIMConnect, Cimetrix CIM300, and Cimetrix CIMPortal Plus are in tegrated with Cimetrix CCF to support the \\nSEMI GEM, GEM300, and E DA/Interface A standards.  \\nServices \\nOur services are almost always s old together with, or to suppor t, our products and include the following: \\nSoftware-as-a-Service –  We provide services to make our  Exensio software available to our customers via the Internet,'),\n",
       " Document(page_content='generally hosted by third-party providers. SaaS is considered p art of cloud computing since the software is hosted on the \\nInternet, or the “cloud.” Since  our SaaS applications are acces sed from a remote server rather than installed on individual \\nmachines, it is easier to maintain. For example, when the remot e software is updated, the customer’s interface is also \\nupdated for all users. Cloud computing is designed to eliminate  incompatibilities between differ ent software versions and'),\n",
       " Document(page_content='allow us to make incremental updates without requiring software  downloads. Additionally, our customers can save data to \\na central online location, which is designed to allow increased  project collaboration. As part of these services, we also \\ntypically provide hosted management services for the software a nd the customer’s data stored in our cloud. These services \\ninclude environment set-up and configuration, system health mon itoring, data integration maintenance, integration'),\n",
       " Document(page_content='monitoring, system updates, security, and data upload/download,  and license administration. \\nSoftware Related Services  – We provide software maintenance and support (“M&S”), data ma nagement services, \\nvarious value-added services (“VAS”) to install, configure, or create analysis templates, and other professional services to \\nachieve customers’ specific outcomes using our software. We cal l this last type of services our solutions offering and, in'),\n",
       " Document(page_content='these cases, we tailor the use of  one or more Exensio products to achieve a desired result. For example, our AIM \\nYieldAware™ FDC solution offering is designed to identify the p rocess control variables that have the greatest impact on \\nproduct yield through professional services that analyze the da ta from both Exensio Proce ss Control and elements of \\nExensio Manufacturing Analytics and make recommendations for th e customer to implement. VAS are provided by our'),\n",
       " Document(page_content='professional service personnel w ith expertise that enhances and  complements the engineering teams at our customers. For \\nexample, VAS includes our data cleaning and monitoring services . One requirement of big data analytics is to have clean, \\nharmonized data to analyze. This service offering outsources th e data wrangling and management effort to free the \\ncustomer to focus their efforts on analysis, which has a greate r ROI to the company than data management.'),\n",
       " Document(page_content='Characterization Services  – These services are designed to characterize key product and/ or process elements, \\nprimarily into CV test structures  or DFI on-chip measurement in struments, and typically do not include performance Table of Contents \\n11 incentives based on the customers’ yield achievement. We provid e these services, typically together with all elements of \\nour CV system, to foundry customers in connection with new proc ess technology development and/or yield ramp. In'),\n",
       " Document(page_content='Characterization engagements, we generally provide the analysis  of our CV test chips and provide summary findings and \\nrecommendations to the customer. Characterization engagements c an include DFI systems. \\nCustomers \\nOur existing customers include f oundries, IDMs, fabless semicon ductor design companies, OSATs, equipment \\nmanufacturers, EMS, and ODMs, including those that embed and di stribute our Assembly Operations modules in their'),\n",
       " Document(page_content='equipment. Our semiconductor customers’ targeted product segmen ts vary significantly, including microprocessors, \\nmemory, graphics, image sensor solutions, and communications. W e believe that the adoption of our solutions by such \\ncompanies for usage in a wide range of products validates the a pplication of our solutions to the broader semiconductor \\nmarket. We often have multiple contracts with a single customer  or customer group, with no in terdependent performance'),\n",
       " Document(page_content='obligations. In general, our customer contracts are non-cancell able. \\nOne customer accounted for 35% of  our revenues for 2023, two cu stomers accounted for 41% of our revenues for \\n2022 and two customers accounted for 27% of our revenues for 20 21. No other customers accounted for 10% or more of \\nour revenues in 2023, 2022 and 2021. Also, two customers accoun ted for 50% of our gross accounts receivable as of'),\n",
       " Document(page_content='December 31, 2023, and three cust omers accounted for 53% of our  gross accounts receivable as of December 31, 2022. \\nWe generally do not require collateral or other security to sup port accounts receivable. See the discussion in “Risk Factors” \\nunder Item 1A for more information about risks associated with customer concentration and contractual provisions. \\nInternational revenues accounted for approximately 44%, 50% and  55% of our total revenues for 2023, 2022 and'),\n",
       " Document(page_content='2021, respectively. We base these calculations on the geographi c location of where the work is performed or where the \\ncustomer is located. Revenues from customers by geographic area  based on the location of the customers’ work sites for \\nthe last three fiscal years can be  found in Note 11, “Customer and Geographic Information” to the consolidated financial \\nstatements. Additional discussion  regarding the risks associate d with international operations can be found under Item 1A,'),\n",
       " Document(page_content='“Risk Factors”. \\nSee our “Notes to Consolidated F inancial Statements”, included under Part II, Item 8. “Financial Statements and \\nSupplementary Data” for additional geographic information. \\nSales and Marketing \\nOur sales strategy is primarily  to pursue targeted accounts thr ough a combination of our direct sales force, our service \\nteams, and strategic alliances. After we are engaged by a custo mer and early in the services p rocess, our engineers seek to'),\n",
       " Document(page_content='establish relationships in the organization and gain an underst anding of our customers’ business issues. Our direct sales \\nand service teams combine their efforts to deepen our customer relationships by expanding our penetration across \\ncustomers’ products, processes, and technologies. This close wo rking relationship with each customer has the added \\nbenefit of helping us to identify new product areas and technol ogies in which we should next focus our research and'),\n",
       " Document(page_content='development efforts. From time-to -time, we use sales representa tives/agents in various locations to augment direct sales \\nin certain territories.  \\nWe expect to continue to establish strategic alliances with pro cess licensors, vendors in the electronic design \\nautomation software, capital equipment for IC production, and t est silicon IP and mask-making s oftware segmen ts to create'),\n",
       " Document(page_content='and take advantage of sales channel and co-marketing opportunit ies. Additionally, we expect to form relationships with \\nkey value chain participants, including foundries and OSATs, to  provide services and value across the manufacturing \\nsupply chain. \\nResearch and Development \\nOur research and development focuses on developing and introduc ing new proprietary technologies for our'),\n",
       " Document(page_content='comprehensive platform, including our Exensio software, Cimetri x connectivity and control products, and DFI and CV \\nsystems, as well as other software products and enhancements to  our existing solutions, such as field applications for DFI Table of Contents \\n12 and CV and new applications targeted to inter-operate with stra tegic partner products. We use a rapid-prototyping \\nparadigm in the context of the customer engagement to achieve t hese goals. We have made, and expect to continue to'),\n",
       " Document(page_content='make, substantial investments in research and development. The complexity of our technologies requires expertise in \\nstandards, physical IC design and layout, transistor design and  semiconductor physics, semiconductor process integration, \\nnumerical algorithms, e-beam tech nology, hardware, statistics a nd software development. We believe that our team of \\nengineers will continue to advance our market and technological  leadership. We conduct in-house training for our'),\n",
       " Document(page_content='engineers in certain technical ar eas. Our training also extends  to focusing on ways to enhance customer service skills. \\nAlthough it fluctuates, we can have up to one quarter of our re search and development engineers assigned to one or more \\nprojects, partnered with solutio n services engineers, in a deli berate strategy to provide direct feedback between technology \\ndevelopment and customer needs. We also utilize a variety of sk illed independent contractors for specialized development.'),\n",
       " Document(page_content='Competition \\nThe semiconductor industry is highly competitive and driven by rapidly changing design and process technologies, \\nevolving standards, short product life cycles, and decreasing p rices. We expect market competition to continue to develop \\nand increase as the market for data and analytics continues to evolve. We believe IC companies benefit from a combination \\nof big data management infrastructure, AI/ML-based analytics en gines, and products that generate and collect'),\n",
       " Document(page_content='differentiated data that enrich the analytics process. Currentl y, we are a leading provider o f comprehensive commercial \\nhardware, software and IP solutions for optimizing and improvin g design, manufacturing and test operations processes \\nthrough the application of differentiated data and advanced ana lytics. As a result, we face c ompetition from three primary \\ngroups: internal customer development or design programs, equip ment solutions providers, and providers of analytical and'),\n",
       " Document(page_content='design software. We face indir ect competition from internal gro ups at IC companies that offer tools with varying degrees \\nof optimization to accelerate pr ocess-design integration or tes t operations. Some providers of semiconductor \\nmanufacturing software, inspection equipment, electronic design  automation, or design IP may seek to broaden their \\nproduct offerings and compete with us. In addition, companies p roviding general ML and analytics software may focus on'),\n",
       " Document(page_content='semiconductor companies and comp ete with us. In each of the mar ket segments we compete in, we face competition from \\nestablished and potential competitors, some of whom may have gr eater financial, research, engineering, manufacturing \\nand marketing resources than we have. \\nWe currently face indirect compe tition from the i nternal groups  at IC companies and direct competition from providers'),\n",
       " Document(page_content='of (i) yield management and/or prediction systems, such as KLA Corporation (“KLA”), Siemens AG (“Siemens”), Onto \\nInnovation, Inc. (“Onto”), and Synopsys, Inc. (“Synopsys”); (ii ) semiconductor manufacturing software, such as Applied \\nMaterials, Inc (“Applied Materials”), Synopsys, Invantest, Inc. , Emerson Electric Co., Onto,  and Siemens; (iii) inline \\ninspection, metrology and electrical test equipment providers, such as ASML Holding N.V. (“ASML”), Applied Materials,'),\n",
       " Document(page_content='KLA, and Keysight Technologies, Inc.; and, (iv) connectivity so ftware or integration products/services supporting factory \\nequipment connectivity or control needs of customers, such as P E E R  G r o u p ,  I n c . ,  K o n t r o n  A I S ,  G m b H ,  Y o k o g a w a  \\nElectric Corp., Advantest, and Kornic Automation Co. Ltd. There  may be other providers of competitive commercial'),\n",
       " Document(page_content='solutions of which we are not aware, and we may compete with th e products or offerings of these named companies or \\nadditional companies if we expa nd our offerings through acquisi tions or development. For example, since our acquisition \\nof Cimetrix in late 2020, we now face competition in the produc ts/services supporting the connectivity, control and \\nintegration of factory equipment. The demand for solutions that  address the need for better integration between the silicon'),\n",
       " Document(page_content='design and manufacturing processes may encourage direct competi tors to enter our market. For example, in 2020, two of \\nour competitors were acquired by larger entities, Synopsys acqu ired Qualtera and NI, Inc. acquired Optimal+, and each \\nhas increased marketing or pricing competition with us. For exa mple, in 2023, Emerson Electric Co. acquired NI, Inc. This \\ncompetition in our market may intensify in the future, which co uld lead to increased pricing pressure, negatively impacting'),\n",
       " Document(page_content='our revenues, and slow our ability to grow or execute our strat egy. Also, our current and potential customers may choose \\nto develop their own solutions internally, particularly if we a re slow in deploying our solutions or improving them to meet \\nmarket needs. These and other competitors may be able to operat e  w i t h  a  l o w e r  c o s t  s t r u c t u r e  t h a n  o u r  e n g i n e e r i n g'),\n",
       " Document(page_content='organization, which would give any such competitor’s products a  competitive advantage over our solutions. \\nWe believe that our solutions compare favorably with respect to  competition because we have demonstrated results \\nand reputation, strong core technology, ability to create innov ative technology, and ability to implement solutions for new \\ntechnology and product generations. See the discussions in “Ris k Factors” under Item 1A for more information about risks'),\n",
       " Document(page_content='associated with our competition. Table of Contents \\n13 Human Capital Management \\nWe believe that our future success will depend, in part, on our  continued ability to hire and retain qualified \\nmanagement, sales, and technical employees. Consequently, we se ek to engage in sound ethical and organizational \\ngovernance, promote business et hics and integrity, and embrace equality, diversity, and inclusion throughout our \\norganization.'),\n",
       " Document(page_content='organization. \\nAs of December 31, 2023, we had 493 employees worldwide, includ ing 171 field application engineers and \\nconsultants, 155 in research and development, 106 in sales and marketing, and 61 in general and administrative functions. \\nOf these employees, 285 are lo cated in the United States, 172 i n Asia, and 36 in Europe. \\nNone of our employees are represented by a labor union. Our emp loyees in France and Italy are subject to collective \\nbargaining agreements in those countries.'),\n",
       " Document(page_content='bargaining agreements in those countries. \\nOur commitment to human capital management  is embedded in our governance structure \\nAt the Board level, our Compensation and Human Capital Manageme nt Committee is tasked with oversight of the \\ndevelopment, implementation and effectiveness of our policies a nd strategies relating to human capital management, \\nincluding strategies regarding recruiting, selection, career de velopment and progression, and diversity and employment'),\n",
       " Document(page_content='practices. Further, our Nominatin g and Corporate Governance Com mittee is tasked with primary oversight for governance \\nand ESG issues. \\nTalent Development \\nWe are committed to the development and growth of our employees  because we believe this is crucial for our long-\\nterm success. This includes offering training, mentorship, and other development opportunities to further enhance the \\ntalent we have today, but also entails having the right skill s ets for our future.'),\n",
       " Document(page_content='talent we have today, but also entails having the right skill s ets for our future. \\nTo this end, we are working to implement a planned set of actio ns around increasing formal programs to achieve these \\ngoals. We believe that our team o f engineers will continue to a dvance our market and technol ogical leadership. We conduct \\nin-house training for our engin eers in certain technical areas.'),\n",
       " Document(page_content='in-house training for our engin eers in certain technical areas.  \\nWe also fund attendance at continuing education courses, sympos ia, and participation in professional organizations. \\nEmployee Engagement \\nEmployee engagement is crucial for the overall health of the or ganization. In 2023, we conducted a survey of all our \\nemployees to assess overall employee engagement. \\nIn addition to our efforts to address employee engagement, we a re committed to supporting our employees and'),\n",
       " Document(page_content='creating an engaged workforce by  prioritizing the items below: \\n• personal growth through training and development; \\n• recognizing and rewarding our peo ple for their commitment to ou r values and our organization; \\n• flexible work locations and schedules; and \\n• providing a sense of organizational community by hosting online  as well as in-person events where our people \\ncan gather and connect. Table of Contents \\n14 Health and Safety'),\n",
       " Document(page_content='can gather and connect. Table of Contents \\n14 Health and Safety \\nWe are committed to ensuring that proper working conditions exi s t  f o r  t h e  s a f e t y  o f  o u r  e m p l o y e e s ,  s u c h  a s  \\ndeveloping, implementing, and improving health and safety syste ms and conditions, and providing appropriate \\npreparation, education, reporting, and controls. \\nDiversity, Equity, and Inclusion'),\n",
       " Document(page_content='preparation, education, reporting, and controls. \\nDiversity, Equity, and Inclusion \\nWe work to ensure that our business practices support diversity  and inclusion to build an innovative workforce and to \\nstrive toward having our organization reflect the complexion of  o ur c u s t om e r s  a n d s up pl i e rs .  In F e br ua r y 2 02 4,  a ft e r  \\nconsidering the recommendation of the Nominating and Corporate Governance Committee, the Compensation and Human'),\n",
       " Document(page_content='Capital Management Committee approved, and then our Board adopt ed, a Human Rights policy and a Diversity, Equity, \\nand Inclusion (“DEI”) Policy to b etter implement our core value s and relevant standards into our governance structure.  \\nWe are strengthening our diversity and inclusion programs with actions around organizational training, on-going \\neducation and focus on our company values, and a revitalized re cruitment strategy.'),\n",
       " Document(page_content='education and focus on our company values, and a revitalized re cruitment strategy. \\nWe value a range of diverse perspectives with reference to our business model and specific needs, including, but not \\nlimited to, gender, age, race, lan guage, cultura l background, e ducational background, industry experience, professional \\nexperience, and veteran and activ e armed service status or othe r similar characteristics.  \\nInformation about our Executive Officers'),\n",
       " Document(page_content='Information about our Executive Officers \\nThe following table and notes set forth information about our c urrent executive officers as of the date of this \\nForm 10  -  K. \\n   \\nName       Age      Position\\nJ o h n  K .  K i b a r i a n ,  P h . D .  .....  5 9  P r e s i d e n t ,  C h i e f  E x e c u t i v e  O f ficer, and Directo r \\nA d n a n  R a z a  ...............  5 1  E x e c u t i v e  V i c e  P r e s i d e n t ,  F i n a n c e and Chief Financial Office r'),\n",
       " Document(page_content='K i m o n  W .  M i c h a e l s ,  P h . D .  ...  5 7  E x e c u t i v e  V i c e  P r e s i d e n t ,  P r o d ucts and Solutions and Directo r\\nAndrze j Stro jw a s ,  P h . D .  .....  7 1  C h i e f  T e c h n o l o gy Office r\\nJohn K. Kibarian, Ph.D. , one of our founders, has served as President since November 1 991 and has served as our \\nChief Executive Officer since July  2000. Dr. Kibarian has serve d as a director on our Board of Directors since'),\n",
       " Document(page_content='December 1992. Dr. Kibarian recei ved a B.S. in Electrical Engin eering, an M.S. E.C.E. and a Ph.D. E.C.E. from Carnegie \\nMellon University. \\nAdnan Raza , joined in January 2020 as Executive Vice President, Finance, and was appointed Chief Financial Officer \\neffective in March 2020. Prior t o joining the Company, Mr. Raza  served as an independent strategy consultant for private'),\n",
       " Document(page_content='and public companies from July 2019 to January 2020. Prior to t hat, Mr. Raza served in various roles at Synaptics Inc., a \\ndeveloper of human interface technologies, including as Senior Vice President of Corporate Development from \\nAugust 2017 to June 2019 and Vice President of Corporate Develo pment from February 2015 to August 2017. Prior roles \\ninclude technology investment banking at Goldman, Sachs & Co. a nd UBS Investment Bank, strategic advising at'),\n",
       " Document(page_content='Blackreef Capital, engineering and  marketing at Azanda Network Devices, and engineering at Lucent Technologies. \\nMr. Raza also served as a Board M ember at FIDO Alliance, an all iance of leading technology companies to enhance user \\nsecurity and authentication. Mr . Raza holds an M.B.A. from The Wharton School at the University of Pennsylvania, a \\nM. Eng. in Electrical Engineerin g from Cornell University, and a B.S. in Electrical Engineering from Valparaiso \\nUniversity.'),\n",
       " Document(page_content='University. \\nKimon W. Michaels, Ph.D. , one of our founders, has served as Vice President, Products a nd Solutions since July 2010 \\nand was designated as an Executive VP in February 2019. Dr. Mic haels served as Vice President, Design for \\nManufacturability from June 2007 through June 2010. Prior to th at, Dr. Michaels served as Vice President, Field \\nOperations for Manufacturing Process Solutions from January 200 6 through May 2007, and has served as a director on'),\n",
       " Document(page_content='our Board of Directors since November 1995. From March 1993 thr ough December 2005, he served in various vice \\npresidential capacities. He also served as Chief Financial Offi cer of the Company from November 1995 to July 1998. \\nDr. Michaels received a B.S. in Electrical Engineering, and M.S . E.C.E. and a Ph.D. E.C.E. from Carnegie Mellon \\nUniversity. Table of Contents \\n15 Andrzej Strojwas, Ph.D. , served as a technical advisor to the Company from our foundin g until 2021 and as chief'),\n",
       " Document(page_content='technologist from 1997 to 2021. He joined the Company as an emp loyee in July 2021 as Vice President and Technical \\nGeneral Manager, and was appointed Chief Technology Officer eff ective December 2021. From October 1982 to \\nJuly 2021, Dr. Strojwas was the Keithley Professor of Electrica l and Computer Engineering at Carnegie Mellon \\nUniversity. In addition, Dr. Strojwas has held senior technical  positions at Harris Semiconductor Co., AT&T Bell Labs,'),\n",
       " Document(page_content='Texas Instruments, NEC, Hitachi, SEMATECH, and KLA. He holds an  M.S. in Electronic Engineering from Warsaw \\nTechnical University and a Ph.D. in Electrical Engineering from  Carnegie Mellon University. \\nAvailable Information \\nWe file or furnish various reports, such as registration statem ents, periodic and current reports, proxy statements and \\nother materials with the SEC. Our Internet website address is w ww.pdf.com. You may obtain, free of charge on our'),\n",
       " Document(page_content='website, copies of our annual reports on Form 10  -  K, quarterly reports on Form 10  -  Q, current reports on Form 8  -  K, and \\namendments to those reports filed or furnished pursuant to Sect ion 13(a) or 15(d) of the Exchange Act, as soon as \\nreasonably practicable after we electronically file such materi al with, or furnish it to, the SEC. The Company’s website \\naddress provided is not intended to function as a hyperlink, an d the information on the Company’s website is not, and'),\n",
       " Document(page_content='should not be considered, part of this Annual Report on Form 10  -  K and is not incorporated by reference herein. \\nThe SEC maintains a Web site ( http://www.sec.gov) that contains  reports, proxy and information statements and other \\ninformation regarding issuers, s uch as us, that file electronic ally with the SEC. \\n  Table of Contents \\n16 Item 1A. Risk Factors \\nA description of the risk factors associated with our business is set forth below. Some of th ese risks are highlighted in'),\n",
       " Document(page_content='the following discussion, and in M anagement’s Discussion and An alysis of Financial Condition and Results of Operations, \\nLegal Proceedings, and Quantitative and Qualitative Disclosures  About Market Risk. The occurrence of any of these risks \\nor additional risks and uncertainties not presently known to us  or that we currently believe to be immaterial could materially  \\nand adversely affect our business, operating results, financial  condition, and stock price. These risks and uncertainties'),\n",
       " Document(page_content='could cause our actual results to differ materially from the re sults contemplated by the forward-looking statements \\ncontained in this report. Investors should carefully consider a ll relevant risks and uncertainties before investing in our \\ncommon stock. \\nRisk Factors Summary \\nRisks Associated with Our Business \\n• We have invested significant resources into research and develo pment of our DFI system and Exensio software'),\n",
       " Document(page_content='and if we fail to successfully carry out these initiatives on t he expected timeline or at all, our business, financial \\ncondition, or results of operati ons could be adversely impacted . \\n• Our sales cycle is lengthy and customers may delay entering int o contracts or decide not to adopt our products or \\nsolutions after we have performed services or supported their e valuation of our technology, which could result in'),\n",
       " Document(page_content='delays in recognizing revenue and could negatively impact our r esults of operations in a quarter or result in lower \\nrevenue than we expected if a contract is not consummated. \\n• We rely on sole-source providers for certain software as well a s for specialized parts for our eProbe hardware and \\nsupply-chain delays or disrupti ons could increase our costs or impact our ability to provide complete software'),\n",
       " Document(page_content='solutions or to build additional hardware tools or meet custome r expectations or deadlines, which could result in \\nlost sales and lower earnings. \\n• Our fixed-fee services for product or system installations/conf igurations may take longer than budgeted, which \\ncould slow our revenue recognition and may result in a lost con tract or a claim of breach by our customers, which \\nwould negatively affect our fin ancial and operating results.'),\n",
       " Document(page_content='would negatively affect our fin ancial and operating results. \\n• Our ability to sell our products , systems, and solutions depend s in part on the quality of our support and services \\nofferings, and the failure to offer high-quality support and se rvices could negatively affect our sales and results \\nof operations. \\n• Defects in our proprietary technologies, hardware and software tools, and failure to effectively remedy any such'),\n",
       " Document(page_content='defects could decrease our revenue and our competitive market s hare. \\n• Objectionable disclosure of our customers’ confidential informa tion or our failure to comply with our customers’ \\nsecurity rules, including for those related to SaaS access, AI use, or our on-site access, could result in costly \\nlitigation, cause us to lose existing and potential customers, or negatively impact on-going business with existing \\ncustomers.'),\n",
       " Document(page_content='customers. \\n• We generate a significant portion of our revenues from a limite d number of customers, and a large percentage of \\nour revenues from one customer, so defaults or decreased busine ss with, or the loss of, any one of these customers, \\nor pricing pressure, or customer consolidation could significan tly reduce our revenues or margins and negatively \\nimpact results o f operations. \\n• If we do not continuously meet our development milestones of ke y research and development projects or'),\n",
       " Document(page_content='successfully commercialize our DFI system, our future market op portunity and revenues will suffer, and our costs \\nmay not be recouped. Table of Contents \\n17 • We are required to comply with governmental export and import r equirements that could subject us to liability \\nand restrict our ability to sell our products and services, whi ch could impair our ability to compete in international \\nmarkets.'),\n",
       " Document(page_content='markets. \\n• Decreases in wafer volumes at our customers’ manufacturing site s or the volume of ICs that some of our \\ncustomers are able to sell to the ir customers would cause our I ntegrated Yield Ramp revenue to suffer. \\n• We acquired an early-stage battery-solutions provider and have been investing in research and development for \\nnew products and services beyond our traditional semiconductor focus, and it could take a long time to reach \\nmarket acceptance and recoup our costs, if at all.'),\n",
       " Document(page_content='market acceptance and recoup our costs, if at all. \\n• Our success depends upon our ability to effectively plan and ma nage our resources and restructure our business \\nthrough rapidly fluctuating economic and market conditions, whi ch actions may have an adverse effect on our \\nfinancial and operating results. \\n• Our business may be negatively im pacted by social, political, g eopolitical, economic instability, unrest, war,'),\n",
       " Document(page_content='terrorism, or other circumstances that could interrupt our busi ness operations, which could cause us to lose sales \\nor delay or be unable to fulfill contractual commitments, which  may have an adverse effect on our financial and \\noperating results. \\n• Global economic conditions or semiconductor market conditions c ould materially adversel y impact demand for \\nour products and services, decrease our sales, or delay our sal es cycle.'),\n",
       " Document(page_content='our products and services, decrease our sales, or delay our sal es cycle. \\n• We face challenges in providing a  comprehensive s olution outsid e of the semiconductor industry due to \\nlimitations on the business areas in which we can use current t hird-party licensed technology, which may make \\nit prohibitively expensive to se ll our solution for application s outside of our traditional industry. \\nRisks Related to Our Technology'),\n",
       " Document(page_content='Risks Related to Our Technology \\n• If we fail to protect our IP rights, customers or potential com petitors may be able to use our technologies to \\ndevelop their own solutions, which could weaken our competitive  position, reduce our revenues, or increase our \\ncosts. \\n• We are exposed to risks related to information technology infra structure, information management and protection, \\ncybersecurity threats, and cyber incidents.'),\n",
       " Document(page_content='cybersecurity threats, and cyber incidents. \\n• We and our customers are subject to laws and regulations concer ning data privacy, dat a security, consumer \\nprotection, and advertising and these laws and regulations are continually evolving, which exposes us to potential \\nmaterial risks. \\n• Our technologies could infringe the IP rights of others, causin g costly litigation and the loss of significant rights.'),\n",
       " Document(page_content='• Competition in the market for data analytics and related system s and services may intensify in the future, which \\ncould impede our ability to gr ow or execute our strategy. \\n• Generative AI and the user other advanced AI technologies for s oftware development may subject us to claims \\nof misappropriation of others’ IP, bugs/errors, and ambiguous o wnership of created content. \\nRisks Related to Our Operations'),\n",
       " Document(page_content='Risks Related to Our Operations \\n• Measurement of our variable consideration sometimes require dat a collection and customers’ use of estimates \\nand are contingent upon customers’ consent and may be later off set if actual data differ from customers’ estimates, \\nwhich can result in uncertainty a nd cause quarterly results to fluctuate. Table of Contents \\n18 • We have customers with past due b alances and our failure to col lect a significant portion of such balances could'),\n",
       " Document(page_content='adversely affect our cash, require us to write-off receivables,  or increase our expense or allowance for credit \\nlosses. \\n• We face operational and financial risks associated with interna tional operations that could negatively impact our \\nrevenues. \\n• Our business is subject to evolving corporate governance and pu blic disclosure regulations and expectations, \\nincluding with respect to ESG matters that could expose us to n umerous risks.'),\n",
       " Document(page_content='including with respect to ESG matters that could expose us to n umerous risks. \\n• Provision of certain of our da ta services relies on installing,  configuring, and operating proprietary configuration \\nof hardware and software systems located in third-party facilit ies and errors affecting such facilities’ operations \\ncould lead to liability for us, a nd any objection from such thi rd-party facility or delay in providing us physical or'),\n",
       " Document(page_content='logical access to our systems may  adversely impact our ability to timely perform our contract obligations or lead \\nto confidentiality, integrity, availability, security, or priva cy controls exceptions. \\nTax Risks \\n \\n• U.S. federal tax reform and chan ges in foreign tax laws could c hange our tax burden and adversely affect our \\nbusiness and financial condition. \\n• Future events may impact our deferred tax asset position, inclu ding the utilization of net operating loss and tax'),\n",
       " Document(page_content='credit carryforwards. \\nRisks Related to Our Strategic Transactions \\n• We may devote significant time and resources to developing stra tegic relationships but we may not realize the \\nbenefits of such efforts, which could have an adverse effect on  our business and results of operations. \\n• Our acquisitions create special r isks and challenges that could  adversely affect our  financial results. \\nGeneral Risk Factors'),\n",
       " Document(page_content='General Risk Factors \\n• If we are not able to retain, a ttract, motivate, and strategica lly locate talented employees, including some key \\nexecutives, our business may suffer. \\n• Our earnings per share and other operating results may vary qua rter to quarter, which could result in not meeting \\ninvestors’ expectations a nd stock price volatility. \\n• Our business could be negatively affected as a result of action s of activist shareholders, and such activism could'),\n",
       " Document(page_content='impact the trading value of our securities. \\nRisks Associated with Our Business \\nWe have invested significant resources into research and development of our DFI system and Exensio software and if \\nwe fail to successfully carry out these initiatives on the expect ed timeline or at all, our business, financial condition, or \\nresults of operations could be adversely impacted. \\nAs part of the evolution of our business, we have made substant ial investments in research and development efforts'),\n",
       " Document(page_content='to develop our DFI system and Exensio software. New competitors , technological advances in th e semiconductor industry \\nor other competitive factors may require us to further invest s ignificantly greater resources t han we anticipate. If we invest  \\nsignificantly greater resources  than anticipated without a corr esponding increase in revenue, our operating results could'),\n",
       " Document(page_content='decline. The technologies and products that we invest in may no t result in products that creat e additional revenue, and we')]"
      ]
     },
     "execution_count": 21,
     "metadata": {},
     "output_type": "execute_result"
    }
   ],
   "source": [
    "docs"
   ]
  },
  {
   "cell_type": "code",
   "execution_count": 12,
   "metadata": {},
   "outputs": [
    {
     "name": "stderr",
     "output_type": "stream",
     "text": [
      "c:\\Users\\abhin\\Anaconda3\\envs\\tradingbot\\lib\\site-packages\\langchain_astradb\\utils\\astradb.py:248: UserWarning: Astra DB collection 'financebot' is detected as having indexing turned on for all fields (either created manually or by older versions of this plugin). This implies stricter limitations on the amount of text each string in a document can store. Consider reindexing anew on a fresh collection to be able to store longer texts.\n",
      "  if not self._validate_indexing_policy(\n"
     ]
    }
   ],
   "source": [
    "ASTRA_DB_API_ENDPOINT=\"https://f437f501-56b0-449b-970f-2f150a3879f7-us-east-2.apps.astra.datastax.com\"\n",
    "ASTRA_DB_APPLICATION_TOKEN=\"AstraCS:fUkvEZxNRjegujwqGbeZuiro:b3114639d84b18ed282b849079ab1e1bbf0c102d79e9dbd04fafe9433f971307\"\n",
    "ASTRA_DB_KEYSPACE=\"default_keyspace\"\n",
    "\n",
    "vstore = AstraDBVectorStore(\n",
    "    embedding=embedding,\n",
    "    collection_name=\"financebot\",\n",
    "    api_endpoint=ASTRA_DB_API_ENDPOINT,\n",
    "    token=ASTRA_DB_APPLICATION_TOKEN,\n",
    "    namespace=ASTRA_DB_KEYSPACE\n",
    "    )"
   ]
  },
  {
   "cell_type": "code",
   "execution_count": 22,
   "metadata": {},
   "outputs": [
    {
     "data": {
      "text/plain": [
       "['88f802513b63489d9388a2997036a70b',\n",
       " 'b2a4e931fbb6487882f638434471a767',\n",
       " '81837d9005484af38c6746d02f398294',\n",
       " '38d760710f8c410292ca8ac3adf13580',\n",
       " '12626c68a9f04e6ebb8d58ded82bcc81',\n",
       " '3d65b82e3b1f4c9791b75ab39b759621',\n",
       " 'fd33b68dfff44493a913cafafd95c078',\n",
       " '3cb5d8d134b34c079b211e7b1fe0cd10',\n",
       " '797dda5742f747b68a4b69ce6382d293',\n",
       " 'f97f74f9182545f19bab1910c292be4b',\n",
       " 'f253f8d8716b476dbf49173ec509a1c4',\n",
       " '4ecc4d76fcc44230ad523d01db9e7e1e',\n",
       " 'f3709651ba2c4088a84284e8eaa41b9b',\n",
       " '7ead7335e2cd442e84e18f9356098813',\n",
       " '94463a3db20d43feb88a9b8ffe6a3f31',\n",
       " '3d6587888e58411a9f8841c17a43eb6a',\n",
       " '3e5b9ce24b384d01915af830b2414917',\n",
       " '990da6a4dfa34f238128f763c092628a',\n",
       " '5db432f8e6f448879d9b54407cead76b',\n",
       " '74904849c64b4f7786ee87137142a4ec',\n",
       " 'eb134dee21d34ce0ab13db592fd40a8d',\n",
       " 'f613158fa7814ea5bc29bf7ea8f4ef9b',\n",
       " '35e99a5804b642bcbb82f74f2ef3a27e',\n",
       " '1093b7993d5c4edb988f6ae79db67ad7',\n",
       " 'ba6f02077b41489e88c734d52cf64f13',\n",
       " 'ac06594f75a6497f87849912a352f1f3',\n",
       " 'b5919b8bfaff40e7be6fb4d73dc9a4bf',\n",
       " '8fad3a1049f24f43a29e991900d70ea5',\n",
       " '47b0c97c83044099a8856aca65e16084',\n",
       " '7c2b3524dc29470d86120f15852be578',\n",
       " 'e2843be02c68449b84f1862ea23748a0',\n",
       " '9168672422c54c17b5429e5631a8a23a',\n",
       " 'ee8886e4c9294dbbb44bb649a9d0102d',\n",
       " '84bd455375f84b7583c6719111174a88',\n",
       " 'bfc4c7aaa2c84ecc9245bf90465d502f',\n",
       " 'b53b9e8fe3824cf98e2443e24e602cc7',\n",
       " '136122401b9d4532b5e35e6cc3a5a46e',\n",
       " '47c661cafb3444608da37f72bea24a8d',\n",
       " '62bdb54b870f447f993aad480520e89e',\n",
       " 'cec9dc5f10f6441ca37d3c96c7b6cdd5',\n",
       " '86688ba99d2b4cd48f43545ef5523684',\n",
       " '5e6cd3e6816e4affb1d6c40ccd6f1180',\n",
       " '9532af0153bc4c2ba6911bcd2da86f8d',\n",
       " '434b881980614ef4a0c0c51cc9e3b06f',\n",
       " '7d8f047aad344c99a16ae676a8478233',\n",
       " '8a2d1233100947b297370143cde195fb',\n",
       " '7aa10cd2c12641048881b1ddd94bd811',\n",
       " '2c4248ca1b5e4b3fbc8ab272d25e8d07',\n",
       " '1695a946134b40f890dd532eb862a3b0',\n",
       " 'de4c2bc7bcd44a85bcb49c5432469b42',\n",
       " '236d687e553b413db23c2e2618da1c49',\n",
       " 'dd120ea2ef2f443093fad41d0afaead4',\n",
       " '81913e90f2d942b0ade36224f2dd9293',\n",
       " '6a95f5b5cf554a728bcb66d6ae02eb32',\n",
       " '8152d2744c72475e80ef059dabf45888',\n",
       " '2e7f0ee500e94909a638356689557454',\n",
       " 'aedbf91981764bfd9fbe8ac577fb9d52',\n",
       " '58919fbd755a48279dcf58305615cece',\n",
       " 'ded352e9753e48febc1dfdfe22c5a540',\n",
       " '7813eb96c41c4a508f1b2483b15a59cf',\n",
       " '7d84e21fb1144b208a3585345a65e6e4',\n",
       " 'd0fb59d6d1be4d259d3036278dbed6b4',\n",
       " '0616049aaa3041a1a8e891fce05a61a8',\n",
       " '08360d6ff64445579a205e0101d38bc0',\n",
       " '6b2b8657aa234d9087e14048aa615f36',\n",
       " '0f6c7a95d17142cb9515dcd150fe8a74',\n",
       " 'c423146dd4dd456c931345b72bfc66ed',\n",
       " 'a7acc0d54aff4ff98420be7ac724afb1',\n",
       " '191b7718abeb429997f56ea436c61f6b',\n",
       " '8e2a51423e024e0791f83aafb9b8b186',\n",
       " '1034d54209be4e93b7a421c593ffdc12',\n",
       " '8546a73e27744253a082f5785a0847a2',\n",
       " '0180eb64900a4fb9b7337481ffba49f5',\n",
       " '0835e07f4cd64f28ac4f4595dbc5690f',\n",
       " 'f95b952d9d564201be9e2decc96d60b2',\n",
       " '75242b1fc3d341a5b01d4de72892156c',\n",
       " 'c259f5fc824f484f8d719e99d5e7aaee',\n",
       " '6f5b7914e1dc4b058c228b35fa3f5b70',\n",
       " '968f6e4058794b988f1245a8c994eff4',\n",
       " '190c4b3eb4334ae7bcc525882580de1e',\n",
       " '3dc73f1dd75b402ebbae57cc9eaef739',\n",
       " '39bae7dd9057408c933a61bd7e8a0046',\n",
       " '40d87bb157044e3fb590b8881d125297',\n",
       " 'a7e7cbdcf0a2471abe6ebf5a4d85f6b1',\n",
       " '2146d8ad087047aea6771a739112cf28',\n",
       " 'aeb39518139a46c2836568fb62cc254f',\n",
       " 'c8b9fd8a56af412eb0ae5cb474e338f8',\n",
       " '2ea03458a597479092ad60960d216bc3',\n",
       " '6fe8ba789a834cf38be7930404d4e021',\n",
       " 'fd39f54e423643beb91dfd641b5e83bc',\n",
       " '181b060bc5124af19cae91e3ae976579']"
      ]
     },
     "execution_count": 22,
     "metadata": {},
     "output_type": "execute_result"
    }
   ],
   "source": [
    "vstore.add_documents(docs)"
   ]
  },
  {
   "cell_type": "code",
   "execution_count": 37,
   "metadata": {},
   "outputs": [],
   "source": [
    "retriever = vstore.as_retriever(kwargs={\"k=3\"})"
   ]
  },
  {
   "cell_type": "code",
   "execution_count": 44,
   "metadata": {},
   "outputs": [],
   "source": [
    "PRODUCT_BOT_TEMPLATE=\"\"\"\n",
    "Your finance bot expert in finance.\n",
    "You need to provide accurate and helpful responses.\n",
    "Ensure your answers are relevant to context.\n",
    "Your responses should be concise and informative.\n",
    "\n",
    "{context}\n",
    "\n",
    "Question:-{question}\n",
    "Your answer:-\n",
    "\"\"\""
   ]
  },
  {
   "cell_type": "code",
   "execution_count": 45,
   "metadata": {},
   "outputs": [],
   "source": [
    "from langchain_core.prompts import ChatPromptTemplate\n",
    "prompt=ChatPromptTemplate.from_template(PRODUCT_BOT_TEMPLATE)"
   ]
  },
  {
   "cell_type": "code",
   "execution_count": 46,
   "metadata": {},
   "outputs": [],
   "source": [
    "from langchain_openai import OpenAI\n",
    "llm=OpenAI()"
   ]
  },
  {
   "cell_type": "code",
   "execution_count": 47,
   "metadata": {},
   "outputs": [],
   "source": [
    "from langchain_core.runnables import RunnablePassthrough\n",
    "from langchain_core.output_parsers import StrOutputParser\n",
    "chain = ({\"context\" : retriever ,\"question\" : RunnablePassthrough()} | prompt | llm | StrOutputParser())"
   ]
  },
  {
   "cell_type": "code",
   "execution_count": 48,
   "metadata": {},
   "outputs": [
    {
     "data": {
      "text/plain": [
       "'To sell stocks, you must first have a brokerage account. Once you have an account, you can place a sell order for the specific stocks you want to sell. The sale will then be executed through the stock market. It is important to research and consider the current market conditions and the performance of the stock before selling. Additionally, you may want to consult with a financial advisor or do thorough research on your own to determine the best time to sell your stocks.'"
      ]
     },
     "execution_count": 48,
     "metadata": {},
     "output_type": "execute_result"
    }
   ],
   "source": [
    "chain.invoke(\"How to sell stocks?\")"
   ]
  }
 ],
 "metadata": {
  "kernelspec": {
   "display_name": "Python 3.10.14 ('tradingbot')",
   "language": "python",
   "name": "python3"
  },
  "language_info": {
   "codemirror_mode": {
    "name": "ipython",
    "version": 3
   },
   "file_extension": ".py",
   "mimetype": "text/x-python",
   "name": "python",
   "nbconvert_exporter": "python",
   "pygments_lexer": "ipython3",
   "version": "3.10.14"
  },
  "orig_nbformat": 4,
  "vscode": {
   "interpreter": {
    "hash": "246a5eb080a9c123ce6a6f11251823a6b0ec3d89f5b07b9f9526a3c121c0ad3c"
   }
  }
 },
 "nbformat": 4,
 "nbformat_minor": 2
}
